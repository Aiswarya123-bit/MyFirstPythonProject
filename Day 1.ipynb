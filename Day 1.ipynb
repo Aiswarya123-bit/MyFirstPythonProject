{
 "cells": [
  {
   "cell_type": "code",
   "id": "initial_id",
   "metadata": {
    "collapsed": true,
    "ExecuteTime": {
     "end_time": "2025-09-01T18:34:17.540369Z",
     "start_time": "2025-09-01T18:34:06.438563Z"
    }
   },
   "source": [
    "print(\"Welcome to Data Engineering Course\")\n",
    "city=input(\"Which city you are living in?\")\n",
    "name=input(\"What is your name?\")\n",
    "print(city + \" \" + name)"
   ],
   "outputs": [
    {
     "name": "stdout",
     "output_type": "stream",
     "text": [
      "Welcome to Data Engineering Course\n",
      "London Aishu\n"
     ]
    }
   ],
   "execution_count": 6
  },
  {
   "metadata": {
    "ExecuteTime": {
     "end_time": "2025-09-02T11:27:28.629618Z",
     "start_time": "2025-09-02T11:27:15.143746Z"
    }
   },
   "cell_type": "code",
   "source": [
    "print(\"Welcome to the Tip calculator\")\n",
    "total_bill=int(input(\"What is your total bill?\"))\n",
    "tip=int(input(\"What is your tip percentage?\"))\n",
    "total_people=int(input(\"How many total people?\"))\n",
    "bill=total_bill+((total_bill*tip)/100)\n",
    "each_pay=bill/total_people\n",
    "print(each_pay)"
   ],
   "id": "6dadea7936a0807c",
   "outputs": [
    {
     "name": "stdout",
     "output_type": "stream",
     "text": [
      "Welcome to the Tip calculator\n",
      "33.6\n"
     ]
    }
   ],
   "execution_count": 8
  },
  {
   "metadata": {
    "ExecuteTime": {
     "end_time": "2025-09-03T14:33:02.299126Z",
     "start_time": "2025-09-03T14:33:02.294762Z"
    }
   },
   "cell_type": "code",
   "source": [
    "import random\n",
    "random_number=random.randint(0,1)\n",
    "if random_number==1:\n",
    "    print(\"Head\")\n",
    "else:\n",
    "    print(\"Tail\")"
   ],
   "id": "2814de1608bdea7e",
   "outputs": [
    {
     "name": "stdout",
     "output_type": "stream",
     "text": [
      "Head\n"
     ]
    }
   ],
   "execution_count": 12
  },
  {
   "metadata": {},
   "cell_type": "code",
   "outputs": [],
   "execution_count": null,
   "source": "",
   "id": "defaa5025280f5d5"
  }
 ],
 "metadata": {
  "kernelspec": {
   "display_name": "Python 3",
   "language": "python",
   "name": "python3"
  },
  "language_info": {
   "codemirror_mode": {
    "name": "ipython",
    "version": 2
   },
   "file_extension": ".py",
   "mimetype": "text/x-python",
   "name": "python",
   "nbconvert_exporter": "python",
   "pygments_lexer": "ipython2",
   "version": "2.7.6"
  }
 },
 "nbformat": 4,
 "nbformat_minor": 5
}
